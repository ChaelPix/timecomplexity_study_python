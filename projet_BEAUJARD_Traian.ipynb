{
 "cells": [
  {
   "cell_type": "markdown",
   "metadata": {},
   "source": [
    "### Étude de la complexité des algorithmes de tri - BEAUJARD Traïan"
   ]
  },
  {
   "cell_type": "markdown",
   "metadata": {},
   "source": [
    "## Sommaire\n",
    "\n",
    "- [I/Introduction](#Introduction)\n",
    "    - [Complexité en temps](#complexité-en-temps)\n",
    "    - [Complexité en espace](#complexité-en-espace)\n",
    "    - [Cas meilleurs, pires, et moyens](#cas-meilleurs-pires-et-moyens)\n",
    "    - [Utilité de la complexité](#utilité-de-la-complexité)\n",
    "- [II/Analyse des algorithmes](#section-1-introduction)\n",
    "    - [a/Bubble Sort](#section-1-introduction)\n",
    "    - [b/Selection Sort](#section-1-introduction)\n",
    "    - [c/Insertion Sort](#section-1-introduction)\n",
    "    - [d/Heap Sort](#section-1-introduction)\n",
    "    - [e/Quick Sort](#section-1-introduction)\n",
    "    - [f/Merge Sort](#section-1-introduction)\n",
    "\n",
    "- [III/Comparaison des algorithmes](#section-1-introduction)\n",
    "\n",
    "- [IV/Bonnes pratiques](#section-1-introduction)"
   ]
  },
  {
   "cell_type": "markdown",
   "metadata": {},
   "source": [
    "# Introduction\n",
    "\n",
    "La **complexité algorithmique** est une mesure de la performance d'un algorithme, exprimée en fonction de la taille de l'entrée.\n",
    "<br> → Elle permet d'évaluer le **temps** (ou le nombre d'opérations) nécessaire pour exécuter un algorithme donné. \n",
    "\n",
    "## Complexité en temps\n",
    "\n",
    "La **complexité en temps** mesure le nombre d'opérations élémentaires que l'algorithme doit effectuer en fonction de la taille de l'entrée. Elle est généralement exprimée en **notation Big-O** (O), qui décrit le comportement asymptotique de l'algorithme lorsque la taille des données tend vers l'infini.\n",
    "\n",
    "Voici différentes complexités :\n",
    "\n",
    "- **O(1)** : Complexité constante — le temps d'exécution ne dépend pas de la taille des données.\n",
    "- **O(log n)** : Complexité logarithmique — le temps d'exécution croît logarithmiquement avec la taille des données.\n",
    "- **O(n)** : Complexité linéaire — le temps d'exécution croît linéairement avec la taille des données.\n",
    "- **O(n log n)** : Complexité linéarithmique - \n",
    "- **O(n²)** : Complexité quadratique — le temps d'exécution croît proportionnellement au carré de la taille des données.\n",
    "- **O(2^n)** : Complexité exponentielle — le temps d'exécution double à chaque ajout d'élément dans l'entrée.\n",
    "\n",
    "<img src=\"imgs/graph_time_complexity.jpg\" alt=\"graph_complexity\" width=\"400\" /> [source image](https://sumeetpanchal-21.medium.com/exploring-java-code-samples-understanding-time-complexity-and-outputs-cad12e57ac4b)"
   ]
  },
  {
   "cell_type": "markdown",
   "metadata": {},
   "source": [
    "\n",
    "## Complexité en espace\n",
    "\n",
    "La **complexité en espace** fait référence à la quantité de mémoire supplémentaire utilisée par l'algorithme par rapport à la taille de l'entrée. \n",
    "\n",
    "## Cas meilleurs, pires et moyens\n",
    "\n",
    "Chaque algorithme peut avoir trois scénarios de performances en fonction de la structure des données d'entrée :\n",
    "- **Meilleur cas** : → un temps d'exécution minimal.\n",
    "- **Pire cas** : → temps d'exécution maximal.\n",
    "- **Cas moyen** : → la performance moyenne de l'algorithme sur un grand nombre d'exécutions avec des données d'entrée différentes.\n",
    "\n",
    "## Utilité de la complexité\n",
    "\n",
    "La complexité permet de **comparer différents algorithmes** et d'en choisir un qui est le plus adapté à un contexte donné.\n",
    "\n",
    "Dans ce projet, nous allons comparer ces différentes complexités et les performances de 6 algorithmes de tri sur différents types de tableaux.\n",
    "\n"
   ]
  }
 ],
 "metadata": {
  "language_info": {
   "name": "python"
  }
 },
 "nbformat": 4,
 "nbformat_minor": 2
}
